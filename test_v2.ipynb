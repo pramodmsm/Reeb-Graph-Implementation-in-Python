{
 "cells": [
  {
   "cell_type": "code",
   "execution_count": 1,
   "metadata": {},
   "outputs": [],
   "source": [
    "import numpy as np\n",
    "from pipe import traverse\n",
    "import networkx as nx\n",
    "import matplotlib.pyplot as plt"
   ]
  },
  {
   "cell_type": "code",
   "execution_count": 2,
   "metadata": {},
   "outputs": [],
   "source": [
    "from collections import defaultdict\n",
    "\n",
    "#This class represents a undirected graph using adjacency processed_nodes representation\n",
    "class Undirectedgraph:\n",
    "\n",
    "\tdef __init__(self,m):\n",
    "\t\tself.graph = defaultdict(list) # default dictionary to store graph\n",
    "\t\tself.m = m\n",
    "\t\tself.m_flat = self.m.flatten()\n",
    "\t\tself.m_flat.sort()\n",
    "\n",
    "\t# function to add an edge to graph\n",
    "\tdef addEdge(self,u,v):\n",
    "\t\tself.graph[u].append(v)\n",
    "\n",
    "\t# A utility function to find the subset of an element i\n",
    "\tdef find_parent(self, parent,i):\n",
    "\t\tif parent[i] == -1:\n",
    "\t\t\treturn i\n",
    "\t\tif parent[i]!= -1:\n",
    "\t\t\treturn self.find_parent(parent,parent[i])\n",
    "\n",
    "\t# A utility function to do union of two subsets\n",
    "\tdef union(self,parent,x,y):\n",
    "\t\tparent[x] = y\n",
    "\n",
    "\n",
    "\tdef get_index(self, item):\n",
    "\t\t[x, y] = np.where(self.m == item)\n",
    "\t\tx, y = x[0], y[0]\n",
    "\t\treturn x, y\n",
    "\t\n",
    "\tdef is_neighbour(self,children,node):\n",
    "\t\t[r, c] = self.m.shape\n",
    "\t\t[x, y] = self.get_index(node)\n",
    "\n",
    "\t\tfor child in children:\n",
    "\t\t\tif child in self.m[max(0,x-1):min(x+2,r), max(y-1,0):min(y+2, c)]:\n",
    "\t\t\t\treturn True\n",
    "\t\t\n",
    "\t\treturn False\n",
    "    \n",
    "\n",
    "\tdef check_for_parents(self,node,processed_nodes,parent):\n",
    "\t\tflag_no_neigbhour = False\n",
    "\t\tif len(processed_nodes)!=0:\n",
    "\t\t\tfor idx,subset in enumerate(processed_nodes):\n",
    "\t\t\t\t# print(f'subset is {subset}, node is {node}')\n",
    "\t\t\t\t# print(f'is node {node} a neighbour of subset{subset}{self.is_neighbour(subset,node)}')\n",
    "\t\t\t\tif self.is_neighbour(subset,node):\n",
    "\t\t\t\t\tself.union(parent,subset[-1],node)\n",
    "\t\t\t\t\t# print(f'appending node {node} to processed_nodes {processed_nodes}')\n",
    "\t\t\t\t\tprocessed_nodes[idx].append(node)\n",
    "\t\t\t\telse:\n",
    "\t\t\t\t\tflag_no_neigbhour = True\n",
    "\n",
    "\t\t\tif flag_no_neigbhour:\n",
    "\t\t\t\tprocessed_nodes.append([node])\n",
    "\t\t\t\t\t\n",
    "\t\t\t\t\t\n",
    "\t\t\t# merge those sets where node is present\n",
    "\t\t\tfor i in range(len(processed_nodes)-1):\n",
    "\t\t\t\t# print(i,processed_nodes)\n",
    "\t\t\t\tif i<len(processed_nodes)-1 and node in processed_nodes[i] and node in processed_nodes[i+1]:\n",
    "\t\t\t\t\tprocessed_nodes[i].extend(processed_nodes[i+1])\n",
    "\t\t\t\t\tprocessed_nodes.remove(processed_nodes[i+1])\n",
    "\t\t\t\t\tprocessed_nodes[i].remove(node)\n",
    "\t\telse:\n",
    "\t\t\tprocessed_nodes.append([node])\n",
    "\t\treturn processed_nodes,parent"
   ]
  },
  {
   "cell_type": "code",
   "execution_count": 3,
   "metadata": {},
   "outputs": [],
   "source": [
    "def reeb_mod(m):\n",
    "    g = Undirectedgraph(m)\n",
    "    G = nx.Graph()\n",
    "    processed_nodes = []\n",
    "    parent = [-1]*(len(g.m_flat)+1)                                             # O(n)  space complexity\n",
    "\n",
    "    for node in g.m_flat:\n",
    "        processed_nodes,parent = g.check_for_parents(node,processed_nodes,parent)\n",
    "    \n",
    "    parent = parent[:-1]\n",
    "    print(f'parent index is {parent}')\n",
    "    for idx,node in enumerate(parent):\n",
    "        if idx>0:\n",
    "            G.add_edge(idx,node)\n",
    "        \n",
    "    plt.plot()\n",
    "    nx.draw_networkx(G, font_weight='bold')\n",
    "\n"
   ]
  },
  {
   "cell_type": "code",
   "execution_count": 6,
   "metadata": {},
   "outputs": [
    {
     "name": "stdout",
     "output_type": "stream",
     "text": [
      "parent index is [-1, 2, 5, 4, 6, 7, 7, 8, 9]\n"
     ]
    },
    {
     "data": {
      "image/png": "[encoded data removed]",
      "text/plain": [
       "<Figure size 432x288 with 1 Axes>"
      ]
     },
     "metadata": {},
     "output_type": "display_data"
    }
   ],
   "source": [
    "input_matrix = np.array([\n",
    "    [1, 6, 3],\n",
    "    [2, 7, 4],\n",
    "    [5, 8, 9]\n",
    "])\n",
    "# input_matrix = np.array([\n",
    "#     [1,7,12,13],\n",
    "#     [9,2,6,5 ],\n",
    "#     [14,8,11,10],\n",
    "#     [15,16,4,3]\n",
    "# ])\n",
    "\n",
    "reeb_mod(input_matrix)\n"
   ]
  },
  {
   "cell_type": "code",
   "execution_count": 8,
   "metadata": {},
   "outputs": [
    {
     "data": {
      "text/plain": [
       "array([[11,  9,  1, 10],\n",
       "       [ 1,  7,  2,  2],\n",
       "       [10,  1, 13,  5],\n",
       "       [10, 12,  2, 12]])"
      ]
     },
     "execution_count": 8,
     "metadata": {},
     "output_type": "execute_result"
    }
   ],
   "source": []
  }
 ],
 "metadata": {
  "interpreter": {
   "hash": "916dbcbb3f70747c44a77c7bcd40155683ae19c65e1c03b4aa3499c5328201f1"
  },
  "kernelspec": {
   "display_name": "Python 3.8.10 64-bit",
   "language": "python",
   "name": "python3"
  },
  "language_info": {
   "codemirror_mode": {
    "name": "ipython",
    "version": 3
   },
   "file_extension": ".py",
   "mimetype": "text/x-python",
   "name": "python",
   "nbconvert_exporter": "python",
   "pygments_lexer": "ipython3",
   "version": "3.8.10"
  },
  "orig_nbformat": 4
 },
 "nbformat": 4,
 "nbformat_minor": 2
}
